{
  "nbformat": 4,
  "nbformat_minor": 0,
  "metadata": {
    "kernelspec": {
      "display_name": "Python 3",
      "language": "python",
      "name": "python3"
    },
    "language_info": {
      "codemirror_mode": {
        "name": "ipython",
        "version": 3
      },
      "file_extension": ".py",
      "mimetype": "text/x-python",
      "name": "python",
      "nbconvert_exporter": "python",
      "pygments_lexer": "ipython3",
      "version": "3.7.6"
    },
    "colab": {
      "name": "02_2_pandas_Быханов_Никита.ipynb",
      "provenance": [],
      "collapsed_sections": []
    }
  },
  "cells": [
    {
      "cell_type": "markdown",
      "metadata": {
        "id": "KVjqqbWPxDug"
      },
      "source": [
        "# Pandas (2)"
      ]
    },
    {
      "cell_type": "markdown",
      "metadata": {
        "id": "ZNsNwboqxDul"
      },
      "source": [
        "Материалы:\n",
        "* Макрушин С.В. \"Лекция 2: Библиотека Pandas\"\n",
        "* https://pandas.pydata.org/docs/user_guide/index.html#\n",
        "* https://pandas.pydata.org/docs/reference/index.html"
      ]
    },
    {
      "cell_type": "markdown",
      "metadata": {
        "id": "Vp8VT1DixDuo"
      },
      "source": [
        "## Задачи для совместного разбора"
      ]
    },
    {
      "cell_type": "code",
      "metadata": {
        "id": "pWX36s0CBLOg"
      },
      "source": [
        "import numpy as np\n",
        "import pandas as pd"
      ],
      "execution_count": null,
      "outputs": []
    },
    {
      "cell_type": "code",
      "metadata": {
        "colab": {
          "base_uri": "https://localhost:8080/"
        },
        "id": "pwPIrdYvz051",
        "outputId": "ed9c4b57-7aa1-46d6-eda0-739f2d6d0ce4"
      },
      "source": [
        "# Clone the entire repo.\n",
        "!git clone -l -s https://github.com/BNik2001/Big-data-processing-technologies.git\n",
        "%cd /content/Big-data-processing-technologies/Pandas/sem/data\n",
        "!ls"
      ],
      "execution_count": null,
      "outputs": [
        {
          "output_type": "stream",
          "name": "stdout",
          "text": [
            "Cloning into 'Big-data-processing-technologies'...\n",
            "warning: --local is ignored\n",
            "remote: Enumerating objects: 92, done.\u001b[K\n",
            "remote: Counting objects: 100% (92/92), done.\u001b[K\n",
            "remote: Compressing objects: 100% (74/74), done.\u001b[K\n",
            "remote: Total 92 (delta 18), reused 57 (delta 8), pack-reused 0\u001b[K\n",
            "Unpacking objects: 100% (92/92), done.\n",
            "/content/Big-data-processing-technologies/Pandas/sem/data\n",
            "recipes_sample.csv  reviews_sample.csv\tsp500hst.txt  sp_data2.csv\n"
          ]
        }
      ]
    },
    {
      "cell_type": "markdown",
      "metadata": {
        "id": "OWFu0HuBxDuo"
      },
      "source": [
        "1. Рассчитайте суммарный объем торгов для для одинаковых значений тикеров."
      ]
    },
    {
      "cell_type": "code",
      "metadata": {
        "colab": {
          "base_uri": "https://localhost:8080/",
          "height": 419
        },
        "id": "5WQyN-l73Z9Z",
        "outputId": "08970768-45ca-431a-f70d-63f4a6cec421"
      },
      "source": [
        "sp500 = pd.read_csv('sp500hst.txt', sep=\",\")\n",
        "sp500.columns = [\"date\", \"ticker\", \"open\", \"high\", \"low\", \"close\", \"volume\"]\n",
        "sp500"
      ],
      "execution_count": null,
      "outputs": [
        {
          "output_type": "execute_result",
          "data": {
            "text/html": [
              "<div>\n",
              "<style scoped>\n",
              "    .dataframe tbody tr th:only-of-type {\n",
              "        vertical-align: middle;\n",
              "    }\n",
              "\n",
              "    .dataframe tbody tr th {\n",
              "        vertical-align: top;\n",
              "    }\n",
              "\n",
              "    .dataframe thead th {\n",
              "        text-align: right;\n",
              "    }\n",
              "</style>\n",
              "<table border=\"1\" class=\"dataframe\">\n",
              "  <thead>\n",
              "    <tr style=\"text-align: right;\">\n",
              "      <th></th>\n",
              "      <th>date</th>\n",
              "      <th>ticker</th>\n",
              "      <th>open</th>\n",
              "      <th>high</th>\n",
              "      <th>low</th>\n",
              "      <th>close</th>\n",
              "      <th>volume</th>\n",
              "    </tr>\n",
              "  </thead>\n",
              "  <tbody>\n",
              "    <tr>\n",
              "      <th>0</th>\n",
              "      <td>20090824</td>\n",
              "      <td>A</td>\n",
              "      <td>25.64</td>\n",
              "      <td>25.7400</td>\n",
              "      <td>25.330</td>\n",
              "      <td>25.50</td>\n",
              "      <td>22247</td>\n",
              "    </tr>\n",
              "    <tr>\n",
              "      <th>1</th>\n",
              "      <td>20090825</td>\n",
              "      <td>A</td>\n",
              "      <td>25.50</td>\n",
              "      <td>25.7000</td>\n",
              "      <td>25.225</td>\n",
              "      <td>25.34</td>\n",
              "      <td>30891</td>\n",
              "    </tr>\n",
              "    <tr>\n",
              "      <th>2</th>\n",
              "      <td>20090826</td>\n",
              "      <td>A</td>\n",
              "      <td>25.32</td>\n",
              "      <td>25.6425</td>\n",
              "      <td>25.145</td>\n",
              "      <td>25.48</td>\n",
              "      <td>33334</td>\n",
              "    </tr>\n",
              "    <tr>\n",
              "      <th>3</th>\n",
              "      <td>20090827</td>\n",
              "      <td>A</td>\n",
              "      <td>25.50</td>\n",
              "      <td>25.5700</td>\n",
              "      <td>25.230</td>\n",
              "      <td>25.54</td>\n",
              "      <td>70176</td>\n",
              "    </tr>\n",
              "    <tr>\n",
              "      <th>4</th>\n",
              "      <td>20090828</td>\n",
              "      <td>A</td>\n",
              "      <td>25.67</td>\n",
              "      <td>26.0500</td>\n",
              "      <td>25.630</td>\n",
              "      <td>25.83</td>\n",
              "      <td>39694</td>\n",
              "    </tr>\n",
              "    <tr>\n",
              "      <th>...</th>\n",
              "      <td>...</td>\n",
              "      <td>...</td>\n",
              "      <td>...</td>\n",
              "      <td>...</td>\n",
              "      <td>...</td>\n",
              "      <td>...</td>\n",
              "      <td>...</td>\n",
              "    </tr>\n",
              "    <tr>\n",
              "      <th>122568</th>\n",
              "      <td>20100813</td>\n",
              "      <td>ZMH</td>\n",
              "      <td>51.72</td>\n",
              "      <td>51.9000</td>\n",
              "      <td>51.380</td>\n",
              "      <td>51.44</td>\n",
              "      <td>14561</td>\n",
              "    </tr>\n",
              "    <tr>\n",
              "      <th>122569</th>\n",
              "      <td>20100816</td>\n",
              "      <td>ZMH</td>\n",
              "      <td>51.13</td>\n",
              "      <td>51.4700</td>\n",
              "      <td>50.600</td>\n",
              "      <td>51.00</td>\n",
              "      <td>13489</td>\n",
              "    </tr>\n",
              "    <tr>\n",
              "      <th>122570</th>\n",
              "      <td>20100817</td>\n",
              "      <td>ZMH</td>\n",
              "      <td>51.14</td>\n",
              "      <td>51.6000</td>\n",
              "      <td>50.890</td>\n",
              "      <td>51.21</td>\n",
              "      <td>20498</td>\n",
              "    </tr>\n",
              "    <tr>\n",
              "      <th>122571</th>\n",
              "      <td>20100819</td>\n",
              "      <td>ZMH</td>\n",
              "      <td>51.63</td>\n",
              "      <td>51.6300</td>\n",
              "      <td>50.170</td>\n",
              "      <td>50.22</td>\n",
              "      <td>18259</td>\n",
              "    </tr>\n",
              "    <tr>\n",
              "      <th>122572</th>\n",
              "      <td>20100820</td>\n",
              "      <td>ZMH</td>\n",
              "      <td>50.03</td>\n",
              "      <td>50.5500</td>\n",
              "      <td>49.480</td>\n",
              "      <td>49.82</td>\n",
              "      <td>17792</td>\n",
              "    </tr>\n",
              "  </tbody>\n",
              "</table>\n",
              "<p>122573 rows × 7 columns</p>\n",
              "</div>"
            ],
            "text/plain": [
              "            date ticker   open     high     low  close  volume\n",
              "0       20090824      A  25.64  25.7400  25.330  25.50   22247\n",
              "1       20090825      A  25.50  25.7000  25.225  25.34   30891\n",
              "2       20090826      A  25.32  25.6425  25.145  25.48   33334\n",
              "3       20090827      A  25.50  25.5700  25.230  25.54   70176\n",
              "4       20090828      A  25.67  26.0500  25.630  25.83   39694\n",
              "...          ...    ...    ...      ...     ...    ...     ...\n",
              "122568  20100813    ZMH  51.72  51.9000  51.380  51.44   14561\n",
              "122569  20100816    ZMH  51.13  51.4700  50.600  51.00   13489\n",
              "122570  20100817    ZMH  51.14  51.6000  50.890  51.21   20498\n",
              "122571  20100819    ZMH  51.63  51.6300  50.170  50.22   18259\n",
              "122572  20100820    ZMH  50.03  50.5500  49.480  49.82   17792\n",
              "\n",
              "[122573 rows x 7 columns]"
            ]
          },
          "metadata": {},
          "execution_count": 3
        }
      ]
    },
    {
      "cell_type": "code",
      "metadata": {
        "colab": {
          "base_uri": "https://localhost:8080/",
          "height": 450
        },
        "id": "lCFqMGWONBQk",
        "outputId": "a3f737da-7256-4126-b4f5-8cac7037d2f0"
      },
      "source": [
        "sp500 = pd.read_csv('sp500hst.txt', sep=\",\", header=None)\n",
        "sp500.columns = [\"date\", \"ticker\", \"open\", \"high\", \"low\", \"close\", \"volume\"]\n",
        "sp500.groupby(['ticker'])[['volume']].sum()"
      ],
      "execution_count": null,
      "outputs": [
        {
          "output_type": "execute_result",
          "data": {
            "text/html": [
              "<div>\n",
              "<style scoped>\n",
              "    .dataframe tbody tr th:only-of-type {\n",
              "        vertical-align: middle;\n",
              "    }\n",
              "\n",
              "    .dataframe tbody tr th {\n",
              "        vertical-align: top;\n",
              "    }\n",
              "\n",
              "    .dataframe thead th {\n",
              "        text-align: right;\n",
              "    }\n",
              "</style>\n",
              "<table border=\"1\" class=\"dataframe\">\n",
              "  <thead>\n",
              "    <tr style=\"text-align: right;\">\n",
              "      <th></th>\n",
              "      <th>volume</th>\n",
              "    </tr>\n",
              "    <tr>\n",
              "      <th>ticker</th>\n",
              "      <th></th>\n",
              "    </tr>\n",
              "  </thead>\n",
              "  <tbody>\n",
              "    <tr>\n",
              "      <th>A</th>\n",
              "      <td>8609336</td>\n",
              "    </tr>\n",
              "    <tr>\n",
              "      <th>AA</th>\n",
              "      <td>81898998</td>\n",
              "    </tr>\n",
              "    <tr>\n",
              "      <th>AAPL</th>\n",
              "      <td>52261170</td>\n",
              "    </tr>\n",
              "    <tr>\n",
              "      <th>ABC</th>\n",
              "      <td>9006756</td>\n",
              "    </tr>\n",
              "    <tr>\n",
              "      <th>ABT</th>\n",
              "      <td>18975870</td>\n",
              "    </tr>\n",
              "    <tr>\n",
              "      <th>...</th>\n",
              "      <td>...</td>\n",
              "    </tr>\n",
              "    <tr>\n",
              "      <th>XTO</th>\n",
              "      <td>21297931</td>\n",
              "    </tr>\n",
              "    <tr>\n",
              "      <th>YHOO</th>\n",
              "      <td>56837171</td>\n",
              "    </tr>\n",
              "    <tr>\n",
              "      <th>YUM</th>\n",
              "      <td>10971538</td>\n",
              "    </tr>\n",
              "    <tr>\n",
              "      <th>ZION</th>\n",
              "      <td>15551119</td>\n",
              "    </tr>\n",
              "    <tr>\n",
              "      <th>ZMH</th>\n",
              "      <td>4938916</td>\n",
              "    </tr>\n",
              "  </tbody>\n",
              "</table>\n",
              "<p>524 rows × 1 columns</p>\n",
              "</div>"
            ],
            "text/plain": [
              "          volume\n",
              "ticker          \n",
              "A        8609336\n",
              "AA      81898998\n",
              "AAPL    52261170\n",
              "ABC      9006756\n",
              "ABT     18975870\n",
              "...          ...\n",
              "XTO     21297931\n",
              "YHOO    56837171\n",
              "YUM     10971538\n",
              "ZION    15551119\n",
              "ZMH      4938916\n",
              "\n",
              "[524 rows x 1 columns]"
            ]
          },
          "metadata": {},
          "execution_count": 4
        }
      ]
    },
    {
      "cell_type": "markdown",
      "metadata": {
        "id": "-McmG1_oxDuo"
      },
      "source": [
        "2. Загрузите данные из файла sp500hst.txt и обозначьте столбцы в соответствии с содержимым: \"date\", \"ticker\", \"open\", \"high\", \"low\", \"close\", \"volume\". Добавьте столбец с расшифровкой названия тикера, используя данные из файла `sp_data2.csv` . В случае нехватки данных об именах тикеров корректно обработать их."
      ]
    },
    {
      "cell_type": "code",
      "metadata": {
        "colab": {
          "base_uri": "https://localhost:8080/",
          "height": 419
        },
        "id": "CRXTvv4O3VMm",
        "outputId": "060eb7f0-e6f4-4620-b374-06c0e23294bb"
      },
      "source": [
        "sp_data2 = pd.read_csv('sp_data2.csv', sep=';', header=None)\n",
        "sp_data2.columns = [\"ticker\", \"decryption\", \"percentage\"]\n",
        "sp_data2"
      ],
      "execution_count": null,
      "outputs": [
        {
          "output_type": "execute_result",
          "data": {
            "text/html": [
              "<div>\n",
              "<style scoped>\n",
              "    .dataframe tbody tr th:only-of-type {\n",
              "        vertical-align: middle;\n",
              "    }\n",
              "\n",
              "    .dataframe tbody tr th {\n",
              "        vertical-align: top;\n",
              "    }\n",
              "\n",
              "    .dataframe thead th {\n",
              "        text-align: right;\n",
              "    }\n",
              "</style>\n",
              "<table border=\"1\" class=\"dataframe\">\n",
              "  <thead>\n",
              "    <tr style=\"text-align: right;\">\n",
              "      <th></th>\n",
              "      <th>ticker</th>\n",
              "      <th>decryption</th>\n",
              "      <th>percentage</th>\n",
              "    </tr>\n",
              "  </thead>\n",
              "  <tbody>\n",
              "    <tr>\n",
              "      <th>0</th>\n",
              "      <td>AAPL</td>\n",
              "      <td>Apple</td>\n",
              "      <td>3.6%</td>\n",
              "    </tr>\n",
              "    <tr>\n",
              "      <th>1</th>\n",
              "      <td>AMZN</td>\n",
              "      <td>Amazon.com</td>\n",
              "      <td>3.2%</td>\n",
              "    </tr>\n",
              "    <tr>\n",
              "      <th>2</th>\n",
              "      <td>GOOGL</td>\n",
              "      <td>Alphabet</td>\n",
              "      <td>3.1%</td>\n",
              "    </tr>\n",
              "    <tr>\n",
              "      <th>3</th>\n",
              "      <td>GOOG</td>\n",
              "      <td>Alphabet</td>\n",
              "      <td>3.1%</td>\n",
              "    </tr>\n",
              "    <tr>\n",
              "      <th>4</th>\n",
              "      <td>MSFT</td>\n",
              "      <td>Microsoft</td>\n",
              "      <td>3.0%</td>\n",
              "    </tr>\n",
              "    <tr>\n",
              "      <th>...</th>\n",
              "      <td>...</td>\n",
              "      <td>...</td>\n",
              "      <td>...</td>\n",
              "    </tr>\n",
              "    <tr>\n",
              "      <th>500</th>\n",
              "      <td>SCG</td>\n",
              "      <td>SCANA</td>\n",
              "      <td>0.0%</td>\n",
              "    </tr>\n",
              "    <tr>\n",
              "      <th>501</th>\n",
              "      <td>AIZ</td>\n",
              "      <td>Assurant</td>\n",
              "      <td>0.0%</td>\n",
              "    </tr>\n",
              "    <tr>\n",
              "      <th>502</th>\n",
              "      <td>AYI</td>\n",
              "      <td>Acuity Brands</td>\n",
              "      <td>0.0%</td>\n",
              "    </tr>\n",
              "    <tr>\n",
              "      <th>503</th>\n",
              "      <td>HRB</td>\n",
              "      <td>H&amp;R Block</td>\n",
              "      <td>0.0%</td>\n",
              "    </tr>\n",
              "    <tr>\n",
              "      <th>504</th>\n",
              "      <td>RRC</td>\n",
              "      <td>Range Resources</td>\n",
              "      <td>0.0%</td>\n",
              "    </tr>\n",
              "  </tbody>\n",
              "</table>\n",
              "<p>505 rows × 3 columns</p>\n",
              "</div>"
            ],
            "text/plain": [
              "    ticker       decryption percentage\n",
              "0     AAPL            Apple       3.6%\n",
              "1     AMZN       Amazon.com       3.2%\n",
              "2    GOOGL         Alphabet       3.1%\n",
              "3     GOOG         Alphabet       3.1%\n",
              "4     MSFT        Microsoft       3.0%\n",
              "..     ...              ...        ...\n",
              "500    SCG            SCANA       0.0%\n",
              "501    AIZ         Assurant       0.0%\n",
              "502    AYI    Acuity Brands       0.0%\n",
              "503    HRB        H&R Block       0.0%\n",
              "504    RRC  Range Resources       0.0%\n",
              "\n",
              "[505 rows x 3 columns]"
            ]
          },
          "metadata": {},
          "execution_count": 5
        }
      ]
    },
    {
      "cell_type": "code",
      "metadata": {
        "colab": {
          "base_uri": "https://localhost:8080/",
          "height": 419
        },
        "id": "2LzGv1XUAXll",
        "outputId": "e8040ddb-2724-41f9-d028-c6b4eb5add45"
      },
      "source": [
        "sp500 = sp500.merge(sp_data2[['ticker','decryption']],how = \"inner\")\n",
        "sp500"
      ],
      "execution_count": null,
      "outputs": [
        {
          "output_type": "execute_result",
          "data": {
            "text/html": [
              "<div>\n",
              "<style scoped>\n",
              "    .dataframe tbody tr th:only-of-type {\n",
              "        vertical-align: middle;\n",
              "    }\n",
              "\n",
              "    .dataframe tbody tr th {\n",
              "        vertical-align: top;\n",
              "    }\n",
              "\n",
              "    .dataframe thead th {\n",
              "        text-align: right;\n",
              "    }\n",
              "</style>\n",
              "<table border=\"1\" class=\"dataframe\">\n",
              "  <thead>\n",
              "    <tr style=\"text-align: right;\">\n",
              "      <th></th>\n",
              "      <th>date</th>\n",
              "      <th>ticker</th>\n",
              "      <th>open</th>\n",
              "      <th>high</th>\n",
              "      <th>low</th>\n",
              "      <th>close</th>\n",
              "      <th>volume</th>\n",
              "      <th>decryption</th>\n",
              "    </tr>\n",
              "  </thead>\n",
              "  <tbody>\n",
              "    <tr>\n",
              "      <th>0</th>\n",
              "      <td>20090821</td>\n",
              "      <td>A</td>\n",
              "      <td>25.60</td>\n",
              "      <td>25.6100</td>\n",
              "      <td>25.220</td>\n",
              "      <td>25.55</td>\n",
              "      <td>34758</td>\n",
              "      <td>Agilent Technologies</td>\n",
              "    </tr>\n",
              "    <tr>\n",
              "      <th>1</th>\n",
              "      <td>20090824</td>\n",
              "      <td>A</td>\n",
              "      <td>25.64</td>\n",
              "      <td>25.7400</td>\n",
              "      <td>25.330</td>\n",
              "      <td>25.50</td>\n",
              "      <td>22247</td>\n",
              "      <td>Agilent Technologies</td>\n",
              "    </tr>\n",
              "    <tr>\n",
              "      <th>2</th>\n",
              "      <td>20090825</td>\n",
              "      <td>A</td>\n",
              "      <td>25.50</td>\n",
              "      <td>25.7000</td>\n",
              "      <td>25.225</td>\n",
              "      <td>25.34</td>\n",
              "      <td>30891</td>\n",
              "      <td>Agilent Technologies</td>\n",
              "    </tr>\n",
              "    <tr>\n",
              "      <th>3</th>\n",
              "      <td>20090826</td>\n",
              "      <td>A</td>\n",
              "      <td>25.32</td>\n",
              "      <td>25.6425</td>\n",
              "      <td>25.145</td>\n",
              "      <td>25.48</td>\n",
              "      <td>33334</td>\n",
              "      <td>Agilent Technologies</td>\n",
              "    </tr>\n",
              "    <tr>\n",
              "      <th>4</th>\n",
              "      <td>20090827</td>\n",
              "      <td>A</td>\n",
              "      <td>25.50</td>\n",
              "      <td>25.5700</td>\n",
              "      <td>25.230</td>\n",
              "      <td>25.54</td>\n",
              "      <td>70176</td>\n",
              "      <td>Agilent Technologies</td>\n",
              "    </tr>\n",
              "    <tr>\n",
              "      <th>...</th>\n",
              "      <td>...</td>\n",
              "      <td>...</td>\n",
              "      <td>...</td>\n",
              "      <td>...</td>\n",
              "      <td>...</td>\n",
              "      <td>...</td>\n",
              "      <td>...</td>\n",
              "      <td>...</td>\n",
              "    </tr>\n",
              "    <tr>\n",
              "      <th>82167</th>\n",
              "      <td>20100813</td>\n",
              "      <td>ZION</td>\n",
              "      <td>20.17</td>\n",
              "      <td>20.4300</td>\n",
              "      <td>19.840</td>\n",
              "      <td>19.89</td>\n",
              "      <td>25193</td>\n",
              "      <td>Zions Bancorp</td>\n",
              "    </tr>\n",
              "    <tr>\n",
              "      <th>82168</th>\n",
              "      <td>20100816</td>\n",
              "      <td>ZION</td>\n",
              "      <td>19.81</td>\n",
              "      <td>19.9600</td>\n",
              "      <td>19.600</td>\n",
              "      <td>19.95</td>\n",
              "      <td>25914</td>\n",
              "      <td>Zions Bancorp</td>\n",
              "    </tr>\n",
              "    <tr>\n",
              "      <th>82169</th>\n",
              "      <td>20100817</td>\n",
              "      <td>ZION</td>\n",
              "      <td>20.07</td>\n",
              "      <td>20.4700</td>\n",
              "      <td>19.830</td>\n",
              "      <td>20.31</td>\n",
              "      <td>31717</td>\n",
              "      <td>Zions Bancorp</td>\n",
              "    </tr>\n",
              "    <tr>\n",
              "      <th>82170</th>\n",
              "      <td>20100819</td>\n",
              "      <td>ZION</td>\n",
              "      <td>19.83</td>\n",
              "      <td>20.0000</td>\n",
              "      <td>19.130</td>\n",
              "      <td>19.35</td>\n",
              "      <td>45935</td>\n",
              "      <td>Zions Bancorp</td>\n",
              "    </tr>\n",
              "    <tr>\n",
              "      <th>82171</th>\n",
              "      <td>20100820</td>\n",
              "      <td>ZION</td>\n",
              "      <td>19.15</td>\n",
              "      <td>19.2700</td>\n",
              "      <td>18.810</td>\n",
              "      <td>19.14</td>\n",
              "      <td>37225</td>\n",
              "      <td>Zions Bancorp</td>\n",
              "    </tr>\n",
              "  </tbody>\n",
              "</table>\n",
              "<p>82172 rows × 8 columns</p>\n",
              "</div>"
            ],
            "text/plain": [
              "           date ticker   open  ...  close  volume            decryption\n",
              "0      20090821      A  25.60  ...  25.55   34758  Agilent Technologies\n",
              "1      20090824      A  25.64  ...  25.50   22247  Agilent Technologies\n",
              "2      20090825      A  25.50  ...  25.34   30891  Agilent Technologies\n",
              "3      20090826      A  25.32  ...  25.48   33334  Agilent Technologies\n",
              "4      20090827      A  25.50  ...  25.54   70176  Agilent Technologies\n",
              "...         ...    ...    ...  ...    ...     ...                   ...\n",
              "82167  20100813   ZION  20.17  ...  19.89   25193         Zions Bancorp\n",
              "82168  20100816   ZION  19.81  ...  19.95   25914         Zions Bancorp\n",
              "82169  20100817   ZION  20.07  ...  20.31   31717         Zions Bancorp\n",
              "82170  20100819   ZION  19.83  ...  19.35   45935         Zions Bancorp\n",
              "82171  20100820   ZION  19.15  ...  19.14   37225         Zions Bancorp\n",
              "\n",
              "[82172 rows x 8 columns]"
            ]
          },
          "metadata": {},
          "execution_count": 7
        }
      ]
    },
    {
      "cell_type": "markdown",
      "metadata": {
        "id": "9egrzRPsxDup"
      },
      "source": [
        "## Лабораторная работа №2.2"
      ]
    },
    {
      "cell_type": "markdown",
      "metadata": {
        "id": "fjxoTIbuxDup"
      },
      "source": [
        "### Группировки таблиц `pd.DataFrame`"
      ]
    },
    {
      "cell_type": "markdown",
      "metadata": {
        "id": "K32_sU8bxDup"
      },
      "source": [
        "4.1 Посчитайте количество рецептов, представленных каждым из участников (`contributor_id`). Какой участник добавил максимальное кол-во рецептов?"
      ]
    },
    {
      "cell_type": "code",
      "metadata": {
        "colab": {
          "base_uri": "https://localhost:8080/",
          "height": 408
        },
        "id": "BjxD_AxpqSrp",
        "outputId": "e63e806a-17df-4e75-beef-a6ad6c0584e0"
      },
      "source": [
        "recipes = pd.read_csv('recipes_sample.csv')\n",
        "reviews= pd.read_csv('reviews_sample.csv')\n",
        "recipes.head(-10)"
      ],
      "execution_count": null,
      "outputs": [
        {
          "output_type": "execute_result",
          "data": {
            "text/html": [
              "<div>\n",
              "<style scoped>\n",
              "    .dataframe tbody tr th:only-of-type {\n",
              "        vertical-align: middle;\n",
              "    }\n",
              "\n",
              "    .dataframe tbody tr th {\n",
              "        vertical-align: top;\n",
              "    }\n",
              "\n",
              "    .dataframe thead th {\n",
              "        text-align: right;\n",
              "    }\n",
              "</style>\n",
              "<table border=\"1\" class=\"dataframe\">\n",
              "  <thead>\n",
              "    <tr style=\"text-align: right;\">\n",
              "      <th></th>\n",
              "      <th>name</th>\n",
              "      <th>id</th>\n",
              "      <th>minutes</th>\n",
              "      <th>contributor_id</th>\n",
              "      <th>submitted</th>\n",
              "      <th>n_steps</th>\n",
              "      <th>description</th>\n",
              "      <th>n_ingredients</th>\n",
              "    </tr>\n",
              "  </thead>\n",
              "  <tbody>\n",
              "    <tr>\n",
              "      <th>0</th>\n",
              "      <td>george s at the cove  black bean soup</td>\n",
              "      <td>44123</td>\n",
              "      <td>90</td>\n",
              "      <td>35193</td>\n",
              "      <td>2002-10-25</td>\n",
              "      <td>NaN</td>\n",
              "      <td>an original recipe created by chef scott meska...</td>\n",
              "      <td>18.0</td>\n",
              "    </tr>\n",
              "    <tr>\n",
              "      <th>1</th>\n",
              "      <td>healthy for them  yogurt popsicles</td>\n",
              "      <td>67664</td>\n",
              "      <td>10</td>\n",
              "      <td>91970</td>\n",
              "      <td>2003-07-26</td>\n",
              "      <td>NaN</td>\n",
              "      <td>my children and their friends ask for my homem...</td>\n",
              "      <td>NaN</td>\n",
              "    </tr>\n",
              "    <tr>\n",
              "      <th>2</th>\n",
              "      <td>i can t believe it s spinach</td>\n",
              "      <td>38798</td>\n",
              "      <td>30</td>\n",
              "      <td>1533</td>\n",
              "      <td>2002-08-29</td>\n",
              "      <td>NaN</td>\n",
              "      <td>these were so go, it surprised even me.</td>\n",
              "      <td>8.0</td>\n",
              "    </tr>\n",
              "    <tr>\n",
              "      <th>3</th>\n",
              "      <td>italian  gut busters</td>\n",
              "      <td>35173</td>\n",
              "      <td>45</td>\n",
              "      <td>22724</td>\n",
              "      <td>2002-07-27</td>\n",
              "      <td>NaN</td>\n",
              "      <td>my sister-in-law made these for us at a family...</td>\n",
              "      <td>NaN</td>\n",
              "    </tr>\n",
              "    <tr>\n",
              "      <th>4</th>\n",
              "      <td>love is in the air  beef fondue   sauces</td>\n",
              "      <td>84797</td>\n",
              "      <td>25</td>\n",
              "      <td>4470</td>\n",
              "      <td>2004-02-23</td>\n",
              "      <td>4.0</td>\n",
              "      <td>i think a fondue is a very romantic casual din...</td>\n",
              "      <td>NaN</td>\n",
              "    </tr>\n",
              "    <tr>\n",
              "      <th>...</th>\n",
              "      <td>...</td>\n",
              "      <td>...</td>\n",
              "      <td>...</td>\n",
              "      <td>...</td>\n",
              "      <td>...</td>\n",
              "      <td>...</td>\n",
              "      <td>...</td>\n",
              "      <td>...</td>\n",
              "    </tr>\n",
              "    <tr>\n",
              "      <th>29985</th>\n",
              "      <td>zucchini  pineapple  ginger jam kicked up with...</td>\n",
              "      <td>325574</td>\n",
              "      <td>50</td>\n",
              "      <td>58104</td>\n",
              "      <td>2008-09-18</td>\n",
              "      <td>15.0</td>\n",
              "      <td>i came up with this sweet and spicy jam after ...</td>\n",
              "      <td>8.0</td>\n",
              "    </tr>\n",
              "    <tr>\n",
              "      <th>29986</th>\n",
              "      <td>zucchini  potato and herb fritters</td>\n",
              "      <td>344542</td>\n",
              "      <td>30</td>\n",
              "      <td>197023</td>\n",
              "      <td>2008-12-21</td>\n",
              "      <td>8.0</td>\n",
              "      <td>adapted from a recipe in 'the australian women...</td>\n",
              "      <td>12.0</td>\n",
              "    </tr>\n",
              "    <tr>\n",
              "      <th>29987</th>\n",
              "      <td>zucchini carrot cake with cream cheese frosting</td>\n",
              "      <td>112591</td>\n",
              "      <td>80</td>\n",
              "      <td>176348</td>\n",
              "      <td>2005-03-03</td>\n",
              "      <td>NaN</td>\n",
              "      <td>this recipe is good to have around when zucchi...</td>\n",
              "      <td>15.0</td>\n",
              "    </tr>\n",
              "    <tr>\n",
              "      <th>29988</th>\n",
              "      <td>zucchini carrot muffins</td>\n",
              "      <td>287490</td>\n",
              "      <td>40</td>\n",
              "      <td>227586</td>\n",
              "      <td>2008-02-21</td>\n",
              "      <td>NaN</td>\n",
              "      <td>got this recipe from from family circle, march...</td>\n",
              "      <td>13.0</td>\n",
              "    </tr>\n",
              "    <tr>\n",
              "      <th>29989</th>\n",
              "      <td>zucchini cheddar casserole</td>\n",
              "      <td>74023</td>\n",
              "      <td>50</td>\n",
              "      <td>89831</td>\n",
              "      <td>2003-10-24</td>\n",
              "      <td>14.0</td>\n",
              "      <td>this has been a long time family favorite!</td>\n",
              "      <td>8.0</td>\n",
              "    </tr>\n",
              "  </tbody>\n",
              "</table>\n",
              "<p>29990 rows × 8 columns</p>\n",
              "</div>"
            ],
            "text/plain": [
              "                                                    name  ...  n_ingredients\n",
              "0                  george s at the cove  black bean soup  ...           18.0\n",
              "1                     healthy for them  yogurt popsicles  ...            NaN\n",
              "2                           i can t believe it s spinach  ...            8.0\n",
              "3                                   italian  gut busters  ...            NaN\n",
              "4               love is in the air  beef fondue   sauces  ...            NaN\n",
              "...                                                  ...  ...            ...\n",
              "29985  zucchini  pineapple  ginger jam kicked up with...  ...            8.0\n",
              "29986                 zucchini  potato and herb fritters  ...           12.0\n",
              "29987    zucchini carrot cake with cream cheese frosting  ...           15.0\n",
              "29988                            zucchini carrot muffins  ...           13.0\n",
              "29989                         zucchini cheddar casserole  ...            8.0\n",
              "\n",
              "[29990 rows x 8 columns]"
            ]
          },
          "metadata": {},
          "execution_count": 12
        }
      ]
    },
    {
      "cell_type": "code",
      "metadata": {
        "colab": {
          "base_uri": "https://localhost:8080/"
        },
        "id": "q5OKkp6_sbC0",
        "outputId": "0a7dca46-7f1b-4e1e-dbf2-7bb9caee8b43"
      },
      "source": [
        "n_recipes_by_contributor = recipes.groupby('contributor_id')['id'].count()\n",
        "\n",
        "assert n_recipes_by_contributor.sum() == recipes.shape[0]\n",
        "\n",
        "print(f'Кол-во рецептов, представленных участником:\\n{n_recipes_by_contributor}')\n",
        "print(f'\\nМаксимальное кол-во рецептов добавил: contributor_id = {n_recipes_by_contributor.argmax()}')"
      ],
      "execution_count": null,
      "outputs": [
        {
          "output_type": "stream",
          "name": "stdout",
          "text": [
            "Кол-во рецептов, представленных участником:\n",
            "contributor_id\n",
            "1530            5\n",
            "1533          186\n",
            "1534           50\n",
            "1535           40\n",
            "1538            8\n",
            "             ... \n",
            "2001968497      2\n",
            "2002059754      1\n",
            "2002234079      1\n",
            "2002234259      1\n",
            "2002247884      1\n",
            "Name: id, Length: 8404, dtype: int64\n",
            "\n",
            "Максимальное кол-во рецептов добавил: contributor_id = 1768\n"
          ]
        }
      ]
    },
    {
      "cell_type": "markdown",
      "metadata": {
        "id": "ivApkt0cxDuq"
      },
      "source": [
        "4.2 Посчитайте средний рейтинг к каждому из рецептов. Для скольких рецептов отсутствуют отзывы?"
      ]
    },
    {
      "cell_type": "code",
      "metadata": {
        "pycharm": {
          "name": "#%%\n"
        },
        "id": "7Ac8jYoqoV9B",
        "colab": {
          "base_uri": "https://localhost:8080/"
        },
        "outputId": "f2621e2a-3707-4942-cdc8-1fd301d9101b"
      },
      "source": [
        "recipes_reviews = recipes.merge(reviews, how='left', left_on='id', right_on='recipe_id')\n",
        "groupby_recipe = recipes_reviews.groupby('id')\n",
        "\n",
        "mean_recipe_ratings = groupby_recipe['rating'].mean()\n",
        "n_recipes_without_review = (groupby_recipe['review'].size() - groupby_recipe['review'].count()).sum()\n",
        "\n",
        "print(f'Средний рейтинг:\\n{mean_recipe_ratings}')\n",
        "print(f'\\nКол-во рецептов без отзывов: {n_recipes_without_review} штук' )"
      ],
      "execution_count": null,
      "outputs": [
        {
          "output_type": "stream",
          "name": "stdout",
          "text": [
            "Средний рейтинг:\n",
            "id\n",
            "48        1.000000\n",
            "55        4.750000\n",
            "66        4.944444\n",
            "91        4.750000\n",
            "94        5.000000\n",
            "            ...   \n",
            "536547    5.000000\n",
            "536610    0.000000\n",
            "536728    4.000000\n",
            "536729    4.750000\n",
            "536747    0.000000\n",
            "Name: rating, Length: 30000, dtype: float64\n",
            "\n",
            "Кол-во рецептов без отзывов: 1917 штук\n"
          ]
        }
      ]
    },
    {
      "cell_type": "markdown",
      "metadata": {
        "id": "kCb-w7ZmxDuq"
      },
      "source": [
        "4.3 Посчитайте количество рецептов с разбивкой по годам создания."
      ]
    },
    {
      "cell_type": "code",
      "metadata": {
        "colab": {
          "base_uri": "https://localhost:8080/",
          "height": 696
        },
        "id": "pcnjqqld9F5O",
        "outputId": "ea081cd1-dd99-4c08-fd15-77885c20f929"
      },
      "source": [
        "recipes.groupby(pd.to_datetime(recipes['submitted'], format='%Y-%m-%d', errors='ignore').dt.year)[['id']].count()"
      ],
      "execution_count": null,
      "outputs": [
        {
          "output_type": "execute_result",
          "data": {
            "text/html": [
              "<div>\n",
              "<style scoped>\n",
              "    .dataframe tbody tr th:only-of-type {\n",
              "        vertical-align: middle;\n",
              "    }\n",
              "\n",
              "    .dataframe tbody tr th {\n",
              "        vertical-align: top;\n",
              "    }\n",
              "\n",
              "    .dataframe thead th {\n",
              "        text-align: right;\n",
              "    }\n",
              "</style>\n",
              "<table border=\"1\" class=\"dataframe\">\n",
              "  <thead>\n",
              "    <tr style=\"text-align: right;\">\n",
              "      <th></th>\n",
              "      <th>id</th>\n",
              "    </tr>\n",
              "    <tr>\n",
              "      <th>submitted</th>\n",
              "      <th></th>\n",
              "    </tr>\n",
              "  </thead>\n",
              "  <tbody>\n",
              "    <tr>\n",
              "      <th>1999</th>\n",
              "      <td>275</td>\n",
              "    </tr>\n",
              "    <tr>\n",
              "      <th>2000</th>\n",
              "      <td>104</td>\n",
              "    </tr>\n",
              "    <tr>\n",
              "      <th>2001</th>\n",
              "      <td>589</td>\n",
              "    </tr>\n",
              "    <tr>\n",
              "      <th>2002</th>\n",
              "      <td>2644</td>\n",
              "    </tr>\n",
              "    <tr>\n",
              "      <th>2003</th>\n",
              "      <td>2334</td>\n",
              "    </tr>\n",
              "    <tr>\n",
              "      <th>2004</th>\n",
              "      <td>2153</td>\n",
              "    </tr>\n",
              "    <tr>\n",
              "      <th>2005</th>\n",
              "      <td>3130</td>\n",
              "    </tr>\n",
              "    <tr>\n",
              "      <th>2006</th>\n",
              "      <td>3473</td>\n",
              "    </tr>\n",
              "    <tr>\n",
              "      <th>2007</th>\n",
              "      <td>4429</td>\n",
              "    </tr>\n",
              "    <tr>\n",
              "      <th>2008</th>\n",
              "      <td>4029</td>\n",
              "    </tr>\n",
              "    <tr>\n",
              "      <th>2009</th>\n",
              "      <td>2963</td>\n",
              "    </tr>\n",
              "    <tr>\n",
              "      <th>2010</th>\n",
              "      <td>1538</td>\n",
              "    </tr>\n",
              "    <tr>\n",
              "      <th>2011</th>\n",
              "      <td>922</td>\n",
              "    </tr>\n",
              "    <tr>\n",
              "      <th>2012</th>\n",
              "      <td>659</td>\n",
              "    </tr>\n",
              "    <tr>\n",
              "      <th>2013</th>\n",
              "      <td>490</td>\n",
              "    </tr>\n",
              "    <tr>\n",
              "      <th>2014</th>\n",
              "      <td>139</td>\n",
              "    </tr>\n",
              "    <tr>\n",
              "      <th>2015</th>\n",
              "      <td>42</td>\n",
              "    </tr>\n",
              "    <tr>\n",
              "      <th>2016</th>\n",
              "      <td>24</td>\n",
              "    </tr>\n",
              "    <tr>\n",
              "      <th>2017</th>\n",
              "      <td>39</td>\n",
              "    </tr>\n",
              "    <tr>\n",
              "      <th>2018</th>\n",
              "      <td>24</td>\n",
              "    </tr>\n",
              "  </tbody>\n",
              "</table>\n",
              "</div>"
            ],
            "text/plain": [
              "             id\n",
              "submitted      \n",
              "1999        275\n",
              "2000        104\n",
              "2001        589\n",
              "2002       2644\n",
              "2003       2334\n",
              "2004       2153\n",
              "2005       3130\n",
              "2006       3473\n",
              "2007       4429\n",
              "2008       4029\n",
              "2009       2963\n",
              "2010       1538\n",
              "2011        922\n",
              "2012        659\n",
              "2013        490\n",
              "2014        139\n",
              "2015         42\n",
              "2016         24\n",
              "2017         39\n",
              "2018         24"
            ]
          },
          "metadata": {},
          "execution_count": 15
        }
      ]
    },
    {
      "cell_type": "markdown",
      "metadata": {
        "id": "NoRU-N-ZxDur"
      },
      "source": [
        "### Объединение таблиц `pd.DataFrame`"
      ]
    },
    {
      "cell_type": "markdown",
      "metadata": {
        "id": "dk-YjByfxDur"
      },
      "source": [
        "5.1 При помощи объединения таблиц, создайте `DataFrame`, состоящий из четырех столбцов: `id`, `name`, `user_id`, `rating`. Рецепты без отзывов должны отсутствовать в данной таблице. Подтвердите правильность работы вашего кода, выбрав рецепт, не имеющий отзывов, и выведя на экран строку из полученного `DataFrame`, содержащую информацию об этом отзыве."
      ]
    },
    {
      "cell_type": "code",
      "metadata": {
        "id": "idPWZABAAOjT",
        "colab": {
          "base_uri": "https://localhost:8080/"
        },
        "outputId": "66b60f12-d9c0-4c28-ede3-144a5c3d0251"
      },
      "source": [
        "recipes_reviews = pd.merge(recipes,reviews,how='inner',left_on='id',right_on='recipe_id')[['id', 'name', 'user_id', 'rating']]\n",
        "\n",
        "recipe_without_review = pd.Series(list(set(recipes['id'].unique()) - set(reviews['recipe_id'].unique()))).sample(1).values[0]\n",
        "\n",
        "print(f'\\nDataFrame (id, name, user_id, rating):\\n{recipes_reviews}')"
      ],
      "execution_count": null,
      "outputs": [
        {
          "output_type": "stream",
          "name": "stdout",
          "text": [
            "\n",
            "DataFrame (id, name, user_id, rating):\n",
            "            id                                    name  user_id  rating\n",
            "0        44123   george s at the cove  black bean soup   743566       5\n",
            "1        44123   george s at the cove  black bean soup    76503       5\n",
            "2        44123   george s at the cove  black bean soup    34206       5\n",
            "3        67664      healthy for them  yogurt popsicles   494084       5\n",
            "4        67664      healthy for them  yogurt popsicles   303445       5\n",
            "...        ...                                     ...      ...     ...\n",
            "126691  486161                             zydeco soup   305531       5\n",
            "126692  486161                             zydeco soup  1271506       5\n",
            "126693  486161                             zydeco soup   724631       5\n",
            "126694  486161                             zydeco soup   133174       5\n",
            "126695  298512  cookies by design   cookies on a stick   804234       1\n",
            "\n",
            "[126696 rows x 4 columns]\n"
          ]
        }
      ]
    },
    {
      "cell_type": "code",
      "metadata": {
        "colab": {
          "base_uri": "https://localhost:8080/",
          "height": 48
        },
        "id": "mCaXL8lv6YDZ",
        "outputId": "380441eb-340f-439e-d358-7a7e29038560"
      },
      "source": [
        "recipes_reviews[recipes_reviews[\"id\"] == recipe_without_review]"
      ],
      "execution_count": null,
      "outputs": [
        {
          "output_type": "execute_result",
          "data": {
            "text/html": [
              "<div>\n",
              "<style scoped>\n",
              "    .dataframe tbody tr th:only-of-type {\n",
              "        vertical-align: middle;\n",
              "    }\n",
              "\n",
              "    .dataframe tbody tr th {\n",
              "        vertical-align: top;\n",
              "    }\n",
              "\n",
              "    .dataframe thead th {\n",
              "        text-align: right;\n",
              "    }\n",
              "</style>\n",
              "<table border=\"1\" class=\"dataframe\">\n",
              "  <thead>\n",
              "    <tr style=\"text-align: right;\">\n",
              "      <th></th>\n",
              "      <th>id</th>\n",
              "      <th>name</th>\n",
              "      <th>user_id</th>\n",
              "      <th>rating</th>\n",
              "    </tr>\n",
              "  </thead>\n",
              "  <tbody>\n",
              "  </tbody>\n",
              "</table>\n",
              "</div>"
            ],
            "text/plain": [
              "Empty DataFrame\n",
              "Columns: [id, name, user_id, rating]\n",
              "Index: []"
            ]
          },
          "metadata": {},
          "execution_count": 29
        }
      ]
    },
    {
      "cell_type": "markdown",
      "metadata": {
        "id": "78ubdUCuxDur"
      },
      "source": [
        "5.2 При помощи объединения таблиц и группировок, создайте `DataFrame`, состоящий из трех столбцов: `recipe_id`, `name`, `review_count`. У рецептов, для которых отсутствуют отзывы, в соответствущем столбце должен быть указан 0. Подтвердите правильность работы вашего кода, выбрав рецепт, не имеющий отзывов, и выведя на экран строку из полученного `DataFrame`, содержащую информацию об этом отзыве.\n"
      ]
    },
    {
      "cell_type": "markdown",
      "metadata": {
        "id": "UGv3HqR2BHYW"
      },
      "source": [
        "Задание сделано на основе того, что review_count считается количество отзывов по рецептам"
      ]
    },
    {
      "cell_type": "code",
      "metadata": {
        "colab": {
          "base_uri": "https://localhost:8080/",
          "height": 408
        },
        "id": "LFflW6kO7KrX",
        "outputId": "cabe5db6-45e2-4c03-d343-b66ff8643de2"
      },
      "source": [
        "grouped = reviews.groupby('recipe_id')['review'].count().reset_index()\n",
        "\n",
        "recipes_reviews = pd.merge(recipes.rename(columns={'id': 'recipe_id'}),grouped.rename(columns={'review': 'review_count'}),how='left',on='recipe_id')[['recipe_id', 'name', 'review_count']].fillna({'review_count': 0})\n",
        "\n",
        "recipe_without_review = pd.Series(list(set(recipes['id'].unique()) - set(reviews['recipe_id'].unique()))).sample(1).values[0]\n",
        "\n",
        "recipes_reviews"
      ],
      "execution_count": null,
      "outputs": [
        {
          "output_type": "execute_result",
          "data": {
            "text/html": [
              "<div>\n",
              "<style scoped>\n",
              "    .dataframe tbody tr th:only-of-type {\n",
              "        vertical-align: middle;\n",
              "    }\n",
              "\n",
              "    .dataframe tbody tr th {\n",
              "        vertical-align: top;\n",
              "    }\n",
              "\n",
              "    .dataframe thead th {\n",
              "        text-align: right;\n",
              "    }\n",
              "</style>\n",
              "<table border=\"1\" class=\"dataframe\">\n",
              "  <thead>\n",
              "    <tr style=\"text-align: right;\">\n",
              "      <th></th>\n",
              "      <th>recipe_id</th>\n",
              "      <th>name</th>\n",
              "      <th>review_count</th>\n",
              "    </tr>\n",
              "  </thead>\n",
              "  <tbody>\n",
              "    <tr>\n",
              "      <th>0</th>\n",
              "      <td>44123</td>\n",
              "      <td>george s at the cove  black bean soup</td>\n",
              "      <td>3.0</td>\n",
              "    </tr>\n",
              "    <tr>\n",
              "      <th>1</th>\n",
              "      <td>67664</td>\n",
              "      <td>healthy for them  yogurt popsicles</td>\n",
              "      <td>8.0</td>\n",
              "    </tr>\n",
              "    <tr>\n",
              "      <th>2</th>\n",
              "      <td>38798</td>\n",
              "      <td>i can t believe it s spinach</td>\n",
              "      <td>3.0</td>\n",
              "    </tr>\n",
              "    <tr>\n",
              "      <th>3</th>\n",
              "      <td>35173</td>\n",
              "      <td>italian  gut busters</td>\n",
              "      <td>1.0</td>\n",
              "    </tr>\n",
              "    <tr>\n",
              "      <th>4</th>\n",
              "      <td>84797</td>\n",
              "      <td>love is in the air  beef fondue   sauces</td>\n",
              "      <td>8.0</td>\n",
              "    </tr>\n",
              "    <tr>\n",
              "      <th>...</th>\n",
              "      <td>...</td>\n",
              "      <td>...</td>\n",
              "      <td>...</td>\n",
              "    </tr>\n",
              "    <tr>\n",
              "      <th>29995</th>\n",
              "      <td>267661</td>\n",
              "      <td>zurie s holey rustic olive and cheddar bread</td>\n",
              "      <td>4.0</td>\n",
              "    </tr>\n",
              "    <tr>\n",
              "      <th>29996</th>\n",
              "      <td>386977</td>\n",
              "      <td>zwetschgenkuchen  bavarian plum cake</td>\n",
              "      <td>2.0</td>\n",
              "    </tr>\n",
              "    <tr>\n",
              "      <th>29997</th>\n",
              "      <td>103312</td>\n",
              "      <td>zwiebelkuchen   southwest german onion cake</td>\n",
              "      <td>6.0</td>\n",
              "    </tr>\n",
              "    <tr>\n",
              "      <th>29998</th>\n",
              "      <td>486161</td>\n",
              "      <td>zydeco soup</td>\n",
              "      <td>6.0</td>\n",
              "    </tr>\n",
              "    <tr>\n",
              "      <th>29999</th>\n",
              "      <td>298512</td>\n",
              "      <td>cookies by design   cookies on a stick</td>\n",
              "      <td>1.0</td>\n",
              "    </tr>\n",
              "  </tbody>\n",
              "</table>\n",
              "<p>30000 rows × 3 columns</p>\n",
              "</div>"
            ],
            "text/plain": [
              "       recipe_id                                          name  review_count\n",
              "0          44123         george s at the cove  black bean soup           3.0\n",
              "1          67664            healthy for them  yogurt popsicles           8.0\n",
              "2          38798                  i can t believe it s spinach           3.0\n",
              "3          35173                          italian  gut busters           1.0\n",
              "4          84797      love is in the air  beef fondue   sauces           8.0\n",
              "...          ...                                           ...           ...\n",
              "29995     267661  zurie s holey rustic olive and cheddar bread           4.0\n",
              "29996     386977          zwetschgenkuchen  bavarian plum cake           2.0\n",
              "29997     103312   zwiebelkuchen   southwest german onion cake           6.0\n",
              "29998     486161                                   zydeco soup           6.0\n",
              "29999     298512        cookies by design   cookies on a stick           1.0\n",
              "\n",
              "[30000 rows x 3 columns]"
            ]
          },
          "metadata": {},
          "execution_count": 44
        }
      ]
    },
    {
      "cell_type": "code",
      "metadata": {
        "colab": {
          "base_uri": "https://localhost:8080/",
          "height": 78
        },
        "id": "da9YKE1GsJ7x",
        "outputId": "c35776ab-125d-4bfb-adc5-5bea4383756e"
      },
      "source": [
        "recipes_reviews[recipes_reviews[\"recipe_id\"] == recipe_without_review]"
      ],
      "execution_count": null,
      "outputs": [
        {
          "output_type": "execute_result",
          "data": {
            "text/html": [
              "<div>\n",
              "<style scoped>\n",
              "    .dataframe tbody tr th:only-of-type {\n",
              "        vertical-align: middle;\n",
              "    }\n",
              "\n",
              "    .dataframe tbody tr th {\n",
              "        vertical-align: top;\n",
              "    }\n",
              "\n",
              "    .dataframe thead th {\n",
              "        text-align: right;\n",
              "    }\n",
              "</style>\n",
              "<table border=\"1\" class=\"dataframe\">\n",
              "  <thead>\n",
              "    <tr style=\"text-align: right;\">\n",
              "      <th></th>\n",
              "      <th>recipe_id</th>\n",
              "      <th>name</th>\n",
              "      <th>review_count</th>\n",
              "    </tr>\n",
              "  </thead>\n",
              "  <tbody>\n",
              "    <tr>\n",
              "      <th>11206</th>\n",
              "      <td>484664</td>\n",
              "      <td>forevermama s garlic cheesy bread  just like t...</td>\n",
              "      <td>0.0</td>\n",
              "    </tr>\n",
              "  </tbody>\n",
              "</table>\n",
              "</div>"
            ],
            "text/plain": [
              "       recipe_id  ... review_count\n",
              "11206     484664  ...          0.0\n",
              "\n",
              "[1 rows x 3 columns]"
            ]
          },
          "metadata": {},
          "execution_count": 40
        }
      ]
    },
    {
      "cell_type": "markdown",
      "metadata": {
        "id": "d7_B4yW1xDus"
      },
      "source": [
        "5.3. Выясните, отзывы, добавленные в каком году, имеют наименьший средний рейтинг?"
      ]
    },
    {
      "cell_type": "code",
      "metadata": {
        "colab": {
          "base_uri": "https://localhost:8080/"
        },
        "id": "h1xUtaOcqGBL",
        "outputId": "372a4169-fca7-4985-da03-abc037447bc6"
      },
      "source": [
        "df_reiting = reviews.groupby(pd.to_datetime(reviews['date'], format='%Y-%m-%d', errors='ignore').dt.year)[['rating']].mean()\n",
        "df_reiting.idxmin()[0]"
      ],
      "execution_count": null,
      "outputs": [
        {
          "output_type": "execute_result",
          "data": {
            "text/plain": [
              "2017"
            ]
          },
          "metadata": {},
          "execution_count": 45
        }
      ]
    },
    {
      "cell_type": "markdown",
      "metadata": {
        "id": "0fsC8FqjxDus"
      },
      "source": [
        "### Сохранение таблиц `pd.DataFrame`"
      ]
    },
    {
      "cell_type": "markdown",
      "metadata": {
        "id": "r7vNL_HZxDus"
      },
      "source": [
        "6.1 Отсортируйте таблицу в порядке убывания величины столбца `name_word_count` и сохраните результаты выполнения заданий 3.1-3.3 в csv файл. "
      ]
    },
    {
      "cell_type": "code",
      "metadata": {
        "id": "KklRhWTLEK8p"
      },
      "source": [
        "recipes[\"name_word_count\"] = recipes[\"name\"].str.split().str.len().sort_values(ascending = False)\n",
        "recipes[\"description_length\"] =recipes[\"description\"].str.len()\n",
        "recipes[\"description\"].str.title()\n",
        "recipes.sort_values(by=[\"name_word_count\"], ascending = False)\n",
        "recipes.to_csv('recipes_1.csv')\n"
      ],
      "execution_count": null,
      "outputs": []
    },
    {
      "cell_type": "markdown",
      "metadata": {
        "id": "1SCps0PJxDus"
      },
      "source": [
        "6.2 Воспользовавшись `pd.ExcelWriter`, cохраните результаты 5.1 и 5.2 в файл: на лист с названием `Рецепты с оценками` сохраните результаты выполнения 5.1; на лист с названием `Количество отзывов по рецептам` сохраните результаты выполнения 5.2."
      ]
    },
    {
      "cell_type": "code",
      "metadata": {
        "id": "cD9IxTUvFfY9"
      },
      "source": [
        "writer = pd.ExcelWriter('Five_one_and_two.xlsx')\n",
        "recipes_reviews.to_excel(writer,'Рецепты с оценками')\n",
        "recipes_reviews.to_excel(writer,'Количество отзывов по рецептам')\n",
        "writer.save()"
      ],
      "execution_count": null,
      "outputs": []
    }
  ]
}